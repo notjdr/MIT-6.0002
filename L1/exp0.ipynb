{
 "cells": [
  {
   "cell_type": "code",
   "execution_count": 1,
   "metadata": {},
   "outputs": [],
   "source": [
    "# pre-process data. max -> min\n",
    "arr_names = ['Maggie', 'Herman', 'Betsy', 'Oreo', 'Moo Moo', 'Milkshake', 'Millie', 'Lola', 'Florence', 'Henrietta']\n",
    "arr_values = [3, 7, 9, 6, 3, 2, 5, 2, 2, 9]\n",
    "\n",
    "\n",
    "lst = list(zip(arr_names,arr_values))\n",
    "lst = sorted(lst, key = lambda cow: cow[1], reverse=True)\n",
    "\n",
    "arr_names, arr_values = zip(*lst)"
   ]
  },
  {
   "cell_type": "code",
   "execution_count": 2,
   "metadata": {},
   "outputs": [],
   "source": [
    "# add availability marker for the cows\n",
    "arr_values = [[arr_values[x], 1] for x in range(len(arr_values))]"
   ]
  },
  {
   "cell_type": "code",
   "execution_count": 3,
   "metadata": {},
   "outputs": [],
   "source": [
    "maxUnits = 10\n",
    "space = []\n",
    "\n",
    "\n",
    "def greedy():\n",
    "    result = []\n",
    "    totalCost = 0.0\n",
    "\n",
    "    for i in range(len(arr_values)):\n",
    "        if (totalCost+arr_values[i][0]) <= maxUnits and arr_values[i][1]:\n",
    "            result.append(arr_names[i])\n",
    "            arr_values[i][1] = 0\n",
    "            totalCost += arr_values[i][0]   \n",
    "\n",
    "    \n",
    "    return result"
   ]
  },
  {
   "cell_type": "code",
   "execution_count": 4,
   "metadata": {},
   "outputs": [],
   "source": [
    "def available_checker():\n",
    "    total = 0\n",
    "    for i in range(len(arr_values)):\n",
    "        total += arr_values[i][1]\n",
    "    return bool(total)\n",
    "\n",
    "\n",
    "while available_checker():\n",
    "    space.append(greedy())\n"
   ]
  },
  {
   "cell_type": "code",
   "execution_count": 12,
   "metadata": {},
   "outputs": [],
   "source": []
  }
 ],
 "metadata": {
  "kernelspec": {
   "display_name": "datasci",
   "language": "python",
   "name": "python3"
  },
  "language_info": {
   "codemirror_mode": {
    "name": "ipython",
    "version": 3
   },
   "file_extension": ".py",
   "mimetype": "text/x-python",
   "name": "python",
   "nbconvert_exporter": "python",
   "pygments_lexer": "ipython3",
   "version": "3.10.13"
  }
 },
 "nbformat": 4,
 "nbformat_minor": 2
}
