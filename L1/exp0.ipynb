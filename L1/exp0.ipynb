{
 "cells": [
  {
   "cell_type": "code",
   "execution_count": 13,
   "metadata": {},
   "outputs": [
    {
     "data": {
      "text/plain": [
       "[[9, 1]]"
      ]
     },
     "execution_count": 13,
     "metadata": {},
     "output_type": "execute_result"
    }
   ],
   "source": [
    "import numpy as np\n",
    "\n",
    "arr_names = [\"Q\",\"F\",\"R\",\"E\",\"W\",\"U\",\"Z\"]\n",
    "arr_values = [9,9,8,7,3,1,1]\n",
    "maxUnits = 10\n",
    "\n",
    "\n",
    "\n",
    "def greedy(j):\n",
    "    result = []\n",
    "    totalCost = 0.0\n",
    "\n",
    "    for i in range(j, len(arr_values)):\n",
    "        if (totalCost+arr_values[i]) <= maxUnits:\n",
    "            result.append(arr_values[i])\n",
    "            totalCost += arr_values[i]\n",
    "            \n",
    " \n",
    "    return [result]\n",
    "\n",
    "greedy(0)\n",
    "\n"
   ]
  }
 ],
 "metadata": {
  "kernelspec": {
   "display_name": "datasci",
   "language": "python",
   "name": "python3"
  },
  "language_info": {
   "codemirror_mode": {
    "name": "ipython",
    "version": 3
   },
   "file_extension": ".py",
   "mimetype": "text/x-python",
   "name": "python",
   "nbconvert_exporter": "python",
   "pygments_lexer": "ipython3",
   "version": "3.10.13"
  }
 },
 "nbformat": 4,
 "nbformat_minor": 2
}
