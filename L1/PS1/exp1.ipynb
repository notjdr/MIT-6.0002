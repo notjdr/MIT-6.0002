{
 "cells": [
  {
   "cell_type": "code",
   "execution_count": 14,
   "metadata": {},
   "outputs": [],
   "source": [
    "# From codereview.stackexchange.com                    \n",
    "def partitions(set_):\n",
    "    \n",
    "    if not set_:\n",
    "        yield []\n",
    "        return\n",
    "                  \n",
    "    for i in range(2**len(set_)//2):\n",
    "        parts = [set(), set()]\n",
    "        for item in set_: \n",
    "            parts[i&1].add(item) \n",
    "            i >>= 1\n",
    "        for b in partitions(parts[1]): \n",
    "            yield [parts[0]]+b \n",
    "\n",
    "def get_partitions(set_):\n",
    "    for partition in partitions(set_):\n",
    "        yield [list(elt) for elt in partition]\n"
   ]
  },
  {
   "cell_type": "code",
   "execution_count": 24,
   "metadata": {},
   "outputs": [],
   "source": [
    "# for partition in get_partitions([10,20,30,40]):\n",
    "    # print(partition)\n",
    "\n",
    "set_=[10,20,30,40]\n",
    "\n",
    "parts = [set(), set()]\n",
    "\n",
    "\n",
    "z = 0\n",
    "\n",
    "for item in set_:\n",
    "    parts[z&1].add(item)\n",
    "    z >>= 1"
   ]
  },
  {
   "cell_type": "code",
   "execution_count": 21,
   "metadata": {},
   "outputs": [
    {
     "name": "stdout",
     "output_type": "stream",
     "text": [
      "0\n",
      "1\n",
      "2\n",
      "3\n"
     ]
    }
   ],
   "source": []
  }
 ],
 "metadata": {
  "kernelspec": {
   "display_name": "datasci",
   "language": "python",
   "name": "python3"
  },
  "language_info": {
   "codemirror_mode": {
    "name": "ipython",
    "version": 3
   },
   "file_extension": ".py",
   "mimetype": "text/x-python",
   "name": "python",
   "nbconvert_exporter": "python",
   "pygments_lexer": "ipython3",
   "version": "3.10.13"
  }
 },
 "nbformat": 4,
 "nbformat_minor": 2
}
