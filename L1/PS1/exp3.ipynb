{
 "cells": [
  {
   "cell_type": "code",
   "execution_count": 1,
   "metadata": {},
   "outputs": [],
   "source": [
    "filename = 'data/team_UAE/raw-data.txt'\n",
    "\n",
    "with open(filename) as f:\n",
    "        file_data = f.readlines()"
   ]
  },
  {
   "cell_type": "code",
   "execution_count": 3,
   "metadata": {},
   "outputs": [],
   "source": [
    "lst = []\n",
    "for x in range(len(file_data)):\n",
    "    lst.append(file_data[x].strip())\n"
   ]
  },
  {
   "cell_type": "code",
   "execution_count": 36,
   "metadata": {},
   "outputs": [],
   "source": [
    "names = []\n",
    "countries = []\n",
    "height = []\n",
    "weight = []\n",
    "\n",
    "#names\n",
    "for x in range(0, len(lst), 5):\n",
    "    names.append(lst[x])\n",
    "\n",
    "#country\n",
    "for x in range(1, len(lst), 5):\n",
    "    countries.append(lst[x])\n",
    "\n",
    "#height\n",
    "for x in range(2, len(lst), 5):\n",
    "    height.append(lst[x])\n",
    "\n",
    "#weight\n",
    "for x in range(3, len(lst), 5):\n",
    "    weight.append(lst[x])\n"
   ]
  },
  {
   "cell_type": "code",
   "execution_count": null,
   "metadata": {},
   "outputs": [],
   "source": [
    "import sqlite3\n",
    "connection = sqlite3.connect('sqlite.db')\n",
    "cursor = connection.cursor()\n",
    "cursor.execute('''CREATE TABLE if not Exists UAE\n",
    "               (Name text, Country text, Height real, Weight real)''')\n",
    "\n",
    "for x in range(len(names)):\n",
    "    INSERT_QUERY = f\"INSERT INTO UAE VALUES ('{names[x]}','{countries[x]}','{height[x]}','{weight[x]}')\"\n",
    "    cursor.execute(INSERT_QUERY)\n",
    "\n",
    "for row in cursor.execute('SELECT * FROM UAE'):\n",
    "    print(row)\n",
    "\n",
    "# Save (commit) the changes\n",
    "connection.commit()\n",
    "# close connection\n",
    "connection.close() "
   ]
  },
  {
   "cell_type": "code",
   "execution_count": null,
   "metadata": {},
   "outputs": [],
   "source": [
    "ALTER TABLE {tableName} ADD COLUMN COLNew {real};"
   ]
  }
 ],
 "metadata": {
  "kernelspec": {
   "display_name": "datasci",
   "language": "python",
   "name": "python3"
  },
  "language_info": {
   "codemirror_mode": {
    "name": "ipython",
    "version": 3
   },
   "file_extension": ".py",
   "mimetype": "text/x-python",
   "name": "python",
   "nbconvert_exporter": "python",
   "pygments_lexer": "ipython3",
   "version": "3.10.13"
  }
 },
 "nbformat": 4,
 "nbformat_minor": 2
}
