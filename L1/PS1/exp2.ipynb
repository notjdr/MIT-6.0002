{
 "cells": [
  {
   "cell_type": "code",
   "execution_count": 1,
   "metadata": {},
   "outputs": [],
   "source": [
    "from ps1_partition import get_partitions"
   ]
  },
  {
   "cell_type": "code",
   "execution_count": 2,
   "metadata": {},
   "outputs": [],
   "source": [
    "#cleaned.txt\n",
    "lst_name = ['JOÃO ALMEIDA', 'IGOR ARRIETA', 'JUAN AYUSO', 'FILIPPO BARONCINI', 'SJOERD BAX', 'MIKKEL BJERG', 'JAN CHRISTEN', 'ALESSANDRO COVI', 'ISAAC DEL TORO', 'FINN FISHER BLACK', 'FELIX GROSSSCHARTNER', 'MARC HIRSCHI', 'ÁLVARO HODEG', 'VEGARD STAKE LAENGEN', 'RAFAŁ MAJKA', 'BRANDON MCNULTY', 'SEBASTIAN MOLANO', 'ANTÓNIO MORGADO', 'DOMEN NOVAK', 'IVO OLIVEIRA', 'RUI OLIVEIRA', 'TADEJ POGAČAR', 'NILS POLITT', 'PAVEL SIVAKOV', 'MARC SOLER', 'DIEGO ULISSI', 'JAY VINE', 'MICHAEL VINK', 'TIM WELLENS', 'ADAM YATES']\n",
    "lst_country = ['PORTUGAL', 'SPAIN', 'SPAIN', 'ITALY', 'NETHERLANDS', 'DENMARK', 'SWITZERLAND', 'ITALY', 'MEXICO', 'NEW ZEALAND', 'AUSTRIA', 'SWITZERLAND', 'COLOMBIA', 'NORWAY', 'POLAND', 'USA', 'COLOMBIA', 'PORTUGAL', 'SLOVENIA', 'PORTUGAL', 'PORTUGAL', 'SLOVENIA', 'GERMANY', 'FRANCE', 'SPAIN', 'ITALY', 'AUSTRALIA', 'NEW ZEALAND', 'BELGIUM', 'UNITED KINGDOM']"
   ]
  },
  {
   "cell_type": "code",
   "execution_count": 3,
   "metadata": {},
   "outputs": [],
   "source": [
    "# From codereview.stackexchange.com                    \n",
    "\n",
    "def partitions(set_):\n",
    "    \n",
    "    if not set_:\n",
    "        yield []\n",
    "        return\n",
    "                  \n",
    "    for i in range(2**len(set_)//2): \n",
    "        parts = [set(), set()]\n",
    "        \n",
    "        for item in set_:\n",
    "            parts[i&1].add(item) \n",
    "            i >>= 1 \n",
    "\n",
    "        for b in partitions(parts[1]): \n",
    "            yield [parts[0]]+b \n",
    "\n",
    "def get_partitions(set_):\n",
    "    for partition in partitions(set_):\n",
    "        yield [list(elt) for elt in partition]\n"
   ]
  },
  {
   "cell_type": "code",
   "execution_count": 4,
   "metadata": {},
   "outputs": [
    {
     "ename": "TypeError",
     "evalue": "unhashable type: 'list'",
     "output_type": "error",
     "traceback": [
      "\u001b[0;31m---------------------------------------------------------------------------\u001b[0m",
      "\u001b[0;31mTypeError\u001b[0m                                 Traceback (most recent call last)",
      "Cell \u001b[0;32mIn[4], line 1\u001b[0m\n\u001b[0;32m----> 1\u001b[0m \u001b[38;5;28;01mfor\u001b[39;00m partition \u001b[38;5;129;01min\u001b[39;00m get_partitions([lst_name]):\n\u001b[1;32m      2\u001b[0m     \u001b[38;5;28mprint\u001b[39m(partition)\n",
      "Cell \u001b[0;32mIn[3], line 20\u001b[0m, in \u001b[0;36mget_partitions\u001b[0;34m(set_)\u001b[0m\n\u001b[1;32m     19\u001b[0m \u001b[38;5;28;01mdef\u001b[39;00m \u001b[38;5;21mget_partitions\u001b[39m(set_):\n\u001b[0;32m---> 20\u001b[0m     \u001b[38;5;28;01mfor\u001b[39;00m partition \u001b[38;5;129;01min\u001b[39;00m partitions(set_):\n\u001b[1;32m     21\u001b[0m         \u001b[38;5;28;01myield\u001b[39;00m [\u001b[38;5;28mlist\u001b[39m(elt) \u001b[38;5;28;01mfor\u001b[39;00m elt \u001b[38;5;129;01min\u001b[39;00m partition]\n",
      "Cell \u001b[0;32mIn[3], line 13\u001b[0m, in \u001b[0;36mpartitions\u001b[0;34m(set_)\u001b[0m\n\u001b[1;32m     10\u001b[0m parts \u001b[38;5;241m=\u001b[39m [\u001b[38;5;28mset\u001b[39m(), \u001b[38;5;28mset\u001b[39m()]\n\u001b[1;32m     12\u001b[0m \u001b[38;5;28;01mfor\u001b[39;00m item \u001b[38;5;129;01min\u001b[39;00m set_:\n\u001b[0;32m---> 13\u001b[0m     \u001b[43mparts\u001b[49m\u001b[43m[\u001b[49m\u001b[43mi\u001b[49m\u001b[38;5;241;43m&\u001b[39;49m\u001b[38;5;241;43m1\u001b[39;49m\u001b[43m]\u001b[49m\u001b[38;5;241;43m.\u001b[39;49m\u001b[43madd\u001b[49m\u001b[43m(\u001b[49m\u001b[43mitem\u001b[49m\u001b[43m)\u001b[49m \n\u001b[1;32m     14\u001b[0m     i \u001b[38;5;241m>>\u001b[39m\u001b[38;5;241m=\u001b[39m \u001b[38;5;241m1\u001b[39m \n\u001b[1;32m     16\u001b[0m \u001b[38;5;28;01mfor\u001b[39;00m b \u001b[38;5;129;01min\u001b[39;00m partitions(parts[\u001b[38;5;241m1\u001b[39m]): \n",
      "\u001b[0;31mTypeError\u001b[0m: unhashable type: 'list'"
     ]
    }
   ],
   "source": [
    "for partition in get_partitions([1,2,3,4,5]):\n",
    "    print(partition)"
   ]
  }
 ],
 "metadata": {
  "kernelspec": {
   "display_name": "datasci",
   "language": "python",
   "name": "python3"
  },
  "language_info": {
   "codemirror_mode": {
    "name": "ipython",
    "version": 3
   },
   "file_extension": ".py",
   "mimetype": "text/x-python",
   "name": "python",
   "nbconvert_exporter": "python",
   "pygments_lexer": "ipython3",
   "version": "3.10.13"
  }
 },
 "nbformat": 4,
 "nbformat_minor": 2
}
