{
 "cells": [
  {
   "cell_type": "code",
   "execution_count": 1,
   "metadata": {},
   "outputs": [],
   "source": [
    "import numpy as np\n",
    "import pandas as pd"
   ]
  },
  {
   "cell_type": "code",
   "execution_count": 2,
   "metadata": {},
   "outputs": [],
   "source": [
    "path = '/home/notjdr/homeworks/6.0002/L1/PS1/ps1_cow_data.txt'\n",
    "file = open(path, 'r')\n",
    "lst_pre = file.readlines()\n",
    "file.close()"
   ]
  },
  {
   "cell_type": "code",
   "execution_count": 3,
   "metadata": {},
   "outputs": [],
   "source": [
    "arr = np.asarray(lst_pre)\n",
    "arr_shape = arr.shape[0]\n",
    "nums = np.zeros(10)\n",
    "\n",
    "\n",
    "#TODO: remove \\n from each string\n",
    "for x in range(arr_shape):\n",
    "    if lst_pre[x][-1:] == '\\n':\n",
    "        arr[x] = lst_pre[x][:-1]\n",
    "    else:\n",
    "        break\n",
    "    \n",
    "\n",
    "# TODO: manually iterate index(i) from reverse and when it meats comma (,) break and restart loop. \n",
    "for x in range(arr_shape): \n",
    "    i = 1\n",
    "    if type(arr[x][-i:]) is int:\n",
    "        i += 1\n",
    "    else:\n",
    "        nums[x] = arr[x][-i:]\n",
    "        arr[x] = arr[x][:-i-1] #TODOx: terminate when greeted with comma (,)\n",
    "\n",
    "#TODO: create pandas dataframe to organize data\n",
    "df = pd.DataFrame()\n",
    "df['Name'] = [arr[x] for x in range(arr_shape)]\n",
    "df['Value'] = [nums[x] for x in range(arr_shape)] \n",
    "\n",
    "del(x, i, file, path)"
   ]
  },
  {
   "cell_type": "code",
   "execution_count": 20,
   "metadata": {},
   "outputs": [],
   "source": [
    "lst_names = [lst_pre[x].split(\",\") for x in range(len(lst_pre))]\n",
    "\n",
    "for x in range(10):\n",
    "    if lst_names[x][1][-1:] == '\\n':\n",
    "       lst_names[x][1][:-1] == '0'\n",
    "    else:\n",
    "        pass \n",
    "\n"
   ]
  },
  {
   "cell_type": "code",
   "execution_count": null,
   "metadata": {},
   "outputs": [],
   "source": []
  },
  {
   "cell_type": "code",
   "execution_count": 22,
   "metadata": {},
   "outputs": [
    {
     "data": {
      "text/plain": [
       "'3'"
      ]
     },
     "execution_count": 22,
     "metadata": {},
     "output_type": "execute_result"
    }
   ],
   "source": [
    "lst_names[0][1][-1:] == '\\n'\n",
    "lst_names[0][1][:-1]"
   ]
  }
 ],
 "metadata": {
  "kernelspec": {
   "display_name": "datasci",
   "language": "python",
   "name": "python3"
  },
  "language_info": {
   "codemirror_mode": {
    "name": "ipython",
    "version": 3
   },
   "file_extension": ".py",
   "mimetype": "text/x-python",
   "name": "python",
   "nbconvert_exporter": "python",
   "pygments_lexer": "ipython3",
   "version": "3.10.13"
  }
 },
 "nbformat": 4,
 "nbformat_minor": 2
}
