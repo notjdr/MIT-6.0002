{
 "cells": [
  {
   "cell_type": "code",
   "execution_count": 1,
   "metadata": {},
   "outputs": [],
   "source": [
    "# import modules and packages\n",
    "import numpy as np\n",
    "import pandas as pd"
   ]
  },
  {
   "cell_type": "code",
   "execution_count": 2,
   "metadata": {},
   "outputs": [],
   "source": [
    "# load data file and read it\n",
    "path = 'ps1_cow_data.txt'\n",
    "file = open(path, 'r')\n",
    "lst_pre = file.readlines()\n",
    "file.close()"
   ]
  },
  {
   "cell_type": "code",
   "execution_count": 3,
   "metadata": {},
   "outputs": [],
   "source": [
    "# # NOTE: don't run, experimentation.\n",
    "arr = np.asarray(lst_pre)\n",
    "arr_shape = arr.shape[0]\n",
    "nums = np.zeros(10)"
   ]
  },
  {
   "cell_type": "code",
   "execution_count": 4,
   "metadata": {},
   "outputs": [],
   "source": [
    "# # NOTE: don't run, experimentation.\n",
    "# # remove \\n from each string\n",
    "for x in range(arr_shape):\n",
    "    if lst_pre[x][-1:] == '\\n':\n",
    "        arr[x] = lst_pre[x][:-1]\n",
    "    else:\n",
    "        break"
   ]
  },
  {
   "cell_type": "code",
   "execution_count": null,
   "metadata": {},
   "outputs": [],
   "source": [
    "# # NOTE: don't run, experimentation.\n",
    "# # manually iterate index(i) from reverse and when it meats comma (,) break and restart loop. \n",
    "# for x in range(arr_shape): \n"
   ]
  },
  {
   "cell_type": "code",
   "execution_count": 3,
   "metadata": {},
   "outputs": [],
   "source": [
    "#     i = 1\n",
    "#     if type(arr[x][-i:]) is int:\n",
    "#         i += 1\n",
    "#     else:\n",
    "#         nums[x] = arr[x][-i:]\n",
    "#         arr[x] = arr[x][:-i-1] #NOTE: terminate when greeted with comma (,)\n",
    "\n",
    "# # create pandas dataframe to organize data\n",
    "# df = pd.DataFrame()\n",
    "# df['Name'] = [arr[x] for x in range(arr_shape)]\n",
    "# df['Value'] = [nums[x] for x in range(arr_shape)] \n",
    "\n",
    "# del(x, i, file, path)"
   ]
  },
  {
   "cell_type": "code",
   "execution_count": null,
   "metadata": {},
   "outputs": [],
   "source": [
    "# # NOTE: don't run, experimentation.\n",
    "# # manually iterate index(i) from reverse and when it meats comma (,) break and restart loop. \n",
    "# for x in range(arr_shape): \n",
    "#     i = 1\n",
    "#     if type(arr[x][-i:]) is int:\n",
    "#         i += 1\n",
    "#     else:\n",
    "#         nums[x] = arr[x][-i:]\n",
    "#         arr[x] = arr[x][:-i-1] #NOTE: terminate when greeted with comma (,)\n",
    "\n",
    "# # create pandas dataframe to organize data\n",
    "# df = pd.DataFrame()\n",
    "# df['Name'] = [arr[x] for x in range(arr_shape)]\n",
    "# df['Value'] = [nums[x] for x in range(arr_shape)] \n",
    "\n",
    "# del(x, i, file, path)"
   ]
  },
  {
   "cell_type": "code",
   "execution_count": null,
   "metadata": {},
   "outputs": [],
   "source": [
    "# # NOTE: don't run, experimentation.\n",
    "\n",
    "# lst = [(3,0), (6,1), (7,3), (8,2), (9,4)]\n",
    "\n",
    "# [lst[x][1] for x in range(len(lst))]"
   ]
  },
  {
   "cell_type": "code",
   "execution_count": 5,
   "metadata": {},
   "outputs": [],
   "source": [
    "lst_names = [lst_pre[x].split(\",\") for x in range(len(lst_pre))]\n",
    "\n",
    "for x in range(10):\n",
    "    if lst_names[x][1][-1:] == '\\n':\n",
    "       lst_names[x][1][:-1] == '0'\n",
    "    else:\n",
    "        pass \n"
   ]
  },
  {
   "cell_type": "code",
   "execution_count": 5,
   "metadata": {},
   "outputs": [],
   "source": [
    "lst_post = [lst_pre[x].split(\",\") for x in range(len(lst_pre))]\n",
    "\n",
    "# TODO: generalize it to new data inputs. range(10) changed for ex. \n",
    "lst_names = [lst_pre[x][ 0 : lst_pre[x].index(\",\")] for x in range(10)]\n",
    "lst_values = [int(lst_post[x][1].replace('\\n','')) for x in range(10)]\n"
   ]
  },
  {
   "cell_type": "code",
   "execution_count": null,
   "metadata": {},
   "outputs": [],
   "source": [
    "# # NOTE: don't run, experimentation.\n",
    "# lst = [(3,0), (6,1), (7,3), (8,2), (9,4)]\n",
    "\n",
    "# [lst[x][1] for x in range(len(lst))]"
   ]
  },
  {
   "cell_type": "code",
   "execution_count": 6,
   "metadata": {},
   "outputs": [],
   "source": [
    "# loop over list. counting from 10 to 1. append cow with its weight to a list in numerical order.\n",
    "\n",
    "# print(cows.items())\n",
    "cows = dict(zip(lst_names, lst_values))\n",
    "cows_by_weight = sorted(cows.items(), key=lambda x:x[1], reverse=True)\n",
    "cows_by_weight = [[name, value] for name, value in cows_by_weight]"
   ]
  },
  {
   "cell_type": "code",
   "execution_count": 7,
   "metadata": {},
   "outputs": [],
   "source": [
    "del x,path,lst_values,lst_pre,lst_post,lst_names,file,"
   ]
  },
  {
   "cell_type": "code",
   "execution_count": 31,
   "metadata": {},
   "outputs": [
    {
     "ename": "NameError",
     "evalue": "name 'x' is not defined",
     "output_type": "error",
     "traceback": [
      "\u001b[0;31m---------------------------------------------------------------------------\u001b[0m",
      "\u001b[0;31mNameError\u001b[0m                                 Traceback (most recent call last)",
      "Cell \u001b[0;32mIn[31], line 6\u001b[0m\n\u001b[1;32m      1\u001b[0m \u001b[38;5;66;03m#[cows_by_weight[x].append(1) for x in range(10)] # availability of these cows. if on land 1, if in space 0.\u001b[39;00m\n\u001b[1;32m      2\u001b[0m \n\u001b[1;32m      3\u001b[0m \u001b[38;5;66;03m# if and cows_by_weight[x][2]: # availability\u001b[39;00m\n\u001b[1;32m      5\u001b[0m \u001b[38;5;28;01mwhile\u001b[39;00m \u001b[38;5;28msum\u001b[39m([cows_by_weight[x][\u001b[38;5;241m2\u001b[39m] \u001b[38;5;28;01mfor\u001b[39;00m x \u001b[38;5;129;01min\u001b[39;00m \u001b[38;5;28mrange\u001b[39m(\u001b[38;5;241m10\u001b[39m)]) \u001b[38;5;241m!=\u001b[39m \u001b[38;5;241m0\u001b[39m:\n\u001b[0;32m----> 6\u001b[0m     cows_by_weight[\u001b[43mx\u001b[49m][\u001b[38;5;241m2\u001b[39m] \u001b[38;5;241m=\u001b[39m \u001b[38;5;241m0\u001b[39m\n\u001b[1;32m      7\u001b[0m     \u001b[38;5;28mprint\u001b[39m(cows_by_weight)\n\u001b[1;32m     10\u001b[0m \u001b[38;5;28mprint\u001b[39m(cows)\n",
      "\u001b[0;31mNameError\u001b[0m: name 'x' is not defined"
     ]
    }
   ],
   "source": [
    "#[cows_by_weight[x].append(1) for x in range(10)] # availability of these cows. if on land 1, if in space 0.\n",
    "\n",
    "# if and cows_by_weight[x][2]: # availability\n",
    "\n",
    "for x in range(10):\n",
    "    if sum(cows_by_weight[x][2]) != 0:\n",
    "        pass\n",
    "    \n",
    "    \n",
    "    cows_by_weight[x][2] = 0\n",
    "    print(cows_by_weight)\n",
    "\n",
    " \n",
    "print(cows)\n",
    "print(cows_by_weight)"
   ]
  },
  {
   "cell_type": "code",
   "execution_count": null,
   "metadata": {},
   "outputs": [],
   "source": [
    "\"\"\"pseudo-code to help with understanding\n",
    "\n",
    "cows_on_land = [\n",
    "                ('Millie', 5), \n",
    "                ('Milkshake', 2), \n",
    "                ('Lola', 2), \n",
    "                ('Florence', 2)\n",
    "                ]\n",
    "\n",
    "cows_in_space = [\n",
    "                ('Henrietta', 9), \n",
    "                ('Herman', 7), \n",
    "                ('Moo Moo', 3), \n",
    "                ('Oreo', 6), \n",
    "                ('Maggie', 3)\n",
    "                ]\n",
    "\n",
    "trips = [\n",
    "        [['Henrietta', 9]], \n",
    "        [['Herman', 7], ['Moo Moo', 3]],\n",
    "        [['Oreo', 6], ['Maggie', 3]],\n",
    "        [[...]]\n",
    "        ]\n",
    "\n",
    "limit=10\n",
    "\n",
    "while len(cows_on_land) != 0: #while there are cows on land, keep sending them to space.\n",
    "        if \n",
    "        trips.append()\n",
    "\n",
    "\"\"\""
   ]
  },
  {
   "cell_type": "code",
   "execution_count": null,
   "metadata": {},
   "outputs": [],
   "source": [
    "# # NOTE: don't run, experimentation.\n",
    "# # manually iterate index(i) from reverse and when it meats comma (,) break and restart loop. \n",
    "# for x in range(arr_shape): \n",
    "#     i = 1\n",
    "#     if type(arr[x][-i:]) is int:\n",
    "#         i += 1\n",
    "#     else:\n",
    "#         nums[x] = arr[x][-i:]\n",
    "#         arr[x] = arr[x][:-i-1] #NOTE: terminate when greeted with comma (,)\n",
    "\n",
    "# # create pandas dataframe to organize data\n",
    "# df = pd.DataFrame()\n",
    "# df['Name'] = [arr[x] for x in range(arr_shape)]\n",
    "# df['Value'] = [nums[x] for x in range(arr_shape)] \n",
    "\n",
    "# del(x, i, file, path)"
   ]
  }
 ],
 "metadata": {
  "kernelspec": {
   "display_name": "datasci",
   "language": "python",
   "name": "python3"
  },
  "language_info": {
   "codemirror_mode": {
    "name": "ipython",
    "version": 3
   },
   "file_extension": ".py",
   "mimetype": "text/x-python",
   "name": "python",
   "nbconvert_exporter": "python",
   "pygments_lexer": "ipython3",
   "version": "3.10.13"
  }
 },
 "nbformat": 4,
 "nbformat_minor": 2
}
