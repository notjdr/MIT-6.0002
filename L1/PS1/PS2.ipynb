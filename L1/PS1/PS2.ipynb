{
 "cells": [
  {
   "cell_type": "code",
   "execution_count": null,
   "metadata": {},
   "outputs": [],
   "source": [
    "dictionary = {'Maggie': 3, 'Herman': 7, 'Betsy': 9, 'Oreo': 6, 'Moo Moo': 3, 'Milkshake': 2, 'Millie': 5, 'Lola': 2, 'Florence': 2, 'Henrietta': 9} \n",
    "lst_names = ['Maggie', 'Herman', 'Betsy', 'Oreo', 'Moo Moo', 'Milkshake', 'Millie', 'Lola', 'Florence', 'Henrietta'] \n",
    "lst_values = [3, 7, 9, 6, 3, 2, 5, 2, 2, 9]"
   ]
  },
  {
   "cell_type": "code",
   "execution_count": null,
   "metadata": {},
   "outputs": [],
   "source": [
    "arr = [\"Q\",\"F\",\"R\",\"E\",\"W\",\"U\",\"Z\"]\n",
    "arr_val = [9,9,8,7,3,1,1]\n",
    "limit = 10\n",
    "space = []"
   ]
  },
  {
   "cell_type": "code",
   "execution_count": null,
   "metadata": {},
   "outputs": [],
   "source": [
    "i = 0 \n",
    "while len(arr) > 0:\n",
    "    if space == []:\n",
    "        space.append([[arr.pop(i), arr_val.pop(i)]])\n",
    "\n",
    "    elif (sum(space[i][1] for i in range(len(space))) <= limit):\n",
    "\n",
    "    else:\n",
    "        i += 1"
   ]
  },
  {
   "cell_type": "code",
   "execution_count": null,
   "metadata": {},
   "outputs": [],
   "source": [
    "import numpy as np\n",
    "\n",
    "arr_names = [\"Q\",\"F\",\"R\",\"E\",\"W\",\"U\",\"Z\"]\n",
    "arr_values = [9,9,8,7,3,1,1]\n",
    "limit = 10\n",
    "\n",
    "# earth = list(zip(arr_names, arr_values)) # earth\n",
    "# earth = [[earth[x]] for x in range(len(earth))] \n",
    "# earth = [list(item) for sublist in earth for item in sublist]\n",
    "\n",
    "sst = [[]] #space ship trips\n"
   ]
  },
  {
   "cell_type": "code",
   "execution_count": null,
   "metadata": {},
   "outputs": [],
   "source": [
    "#TODO: try to find pairs in the arr_values\n",
    "i = 0\n",
    "lst = [[]]\n",
    "holding = []\n",
    "holding.append([arr_values.pop(i)])\n",
    "holding.append([arr_values.pop(i)])\n",
    "\n",
    "def sum_holding():\n",
    "    sum_holding = sum([sum(holding[x]) for x in range(len(holding))])\n",
    "    return sum_holding\n",
    "\n",
    "\n",
    "while len(arr_values) > 0:\n",
    "    if sum_holding() < limit:\n",
    "        holding.append(arr_values.pop[i])\n",
    "\n"
   ]
  },
  {
   "cell_type": "code",
   "execution_count": 1,
   "metadata": {},
   "outputs": [
    {
     "name": "stdout",
     "output_type": "stream",
     "text": [
      "Use greedy by value to allocate 1000 calories\n",
      "Total value of items taken = 424.0\n",
      "    burger : <100, 354>\n",
      "    pizza : <95, 258>\n",
      "    beer : <90, 154>\n",
      "    wine : <89, 123>\n",
      "    apple : <50, 95>\n",
      "\n",
      "Use greedy by cost to allocate 1000 calories\n",
      "Total value of items taken = 413.0\n",
      "    apple : <50, 95>\n",
      "    wine : <89, 123>\n",
      "    cola : <79, 150>\n",
      "    beer : <90, 154>\n",
      "    donut : <10, 195>\n",
      "    pizza : <95, 258>\n",
      "\n",
      "Use greedy by density to allocate 1000 calories\n",
      "Total value of items taken = 413.0\n",
      "    wine : <89, 123>\n",
      "    beer : <90, 154>\n",
      "    cola : <79, 150>\n",
      "    apple : <50, 95>\n",
      "    pizza : <95, 258>\n",
      "    donut : <10, 195>\n"
     ]
    }
   ],
   "source": [
    "\n",
    "class Food(object):\n",
    "    def __init__(self, n, v, w):\n",
    "        self.name = n\n",
    "        self.value = v\n",
    "        self.calories = w\n",
    "    def getValue(self):\n",
    "        return self.value\n",
    "    def getCost(self):\n",
    "        return self.calories\n",
    "    def density(self):\n",
    "        return self.getValue()/self.getCost()\n",
    "    def __str__(self):\n",
    "        return f\"{self.name} : <{str(self.value)}, {str(self.calories)}>\"\n",
    "\n",
    "def buildMenu(names, values, calories):\n",
    "    \"\"\"names, values, calories lists of same length. name a list of strings values and calories lists of numbers. returns list of Foods\n",
    "    \"\"\"\n",
    "    menu = []\n",
    "    \n",
    "    for i in range(len(values)):\n",
    "        menu.append(Food(names[i], values[i], calories[i]))\n",
    "    \n",
    "    return menu # NOTE: this is a fake menu -- such that it doesn't contain the actual data but rather calls from Food()\n",
    "\n",
    "def greedy(items, maxCost, keyFunction):\n",
    "    \"\"\"Assumes items a list, maxCost >= 0, keyFunction maps elements of items to numbers\n",
    "    \"\"\"\n",
    "    itemsCopy = sorted(items, key=keyFunction, reverse=True)\n",
    "    result = []\n",
    "    totalValue, totalCost = 0.0, 0.0\n",
    "    \n",
    "    for i in range(len(itemsCopy)):\n",
    "        if (totalCost+itemsCopy[i].getCost()) <= maxCost:\n",
    "            result.append(itemsCopy[i])\n",
    "            totalCost += itemsCopy[i].getCost()\n",
    "            totalValue += itemsCopy[i].getValue()\n",
    "    \n",
    "    return (result, totalValue)\n",
    "\n",
    "def testGreedy(items, maxUnits, keyFunction):\n",
    "    \"\"\"\n",
    "    \"\"\"\n",
    "    result, totalValue = greedy(items, maxUnits, keyFunction) \n",
    "    print('Total value of items taken =', totalValue)\n",
    "    \n",
    "    for item in result:\n",
    "        print('   ', item)\n",
    "\n",
    "def testGreedys(foods, maxUnits):\n",
    "    \"\"\"tests the different variations of Greedy -- by calories, cost, density\n",
    "    \"\"\"\n",
    "    print('Use greedy by value to allocate', maxUnits,\n",
    "          'calories')\n",
    "    testGreedy(foods, maxUnits, Food.getValue)\n",
    "    \n",
    "    print('\\nUse greedy by cost to allocate', maxUnits,\n",
    "          'calories')\n",
    "    testGreedy(foods, maxUnits,\n",
    "               lambda x: 1/Food.getCost(x))\n",
    "    \n",
    "    print('\\nUse greedy by density to allocate', maxUnits,\n",
    "          'calories')\n",
    "    testGreedy(foods, maxUnits, Food.density)\n",
    "\n",
    "\n",
    "names = ['wine', 'beer', 'pizza', 'burger', 'fries', 'cola', 'apple', 'donut', 'cake']\n",
    "values = [89,90,95,100,90,79,50,10]\n",
    "calories = [123,154,258,354,365,150,95,195]\n",
    "foods = buildMenu(names, values, calories)\n",
    "testGreedys(foods, 1000)\n",
    " "
   ]
  },
  {
   "cell_type": "code",
   "execution_count": 13,
   "metadata": {},
   "outputs": [
    {
     "name": "stdout",
     "output_type": "stream",
     "text": [
      "beer : <90, 154>\n"
     ]
    }
   ],
   "source": [
    "print(foods[1].__str__())"
   ]
  },
  {
   "cell_type": "code",
   "execution_count": null,
   "metadata": {},
   "outputs": [],
   "source": [
    "def total():\n",
    "    pass\n",
    "\n",
    "while len(arr_values) > 0:\n",
    "    y = 0 #TODO: when do we increase this index?\n",
    "    # either when we reach the limit=10, or we went through every index in the list\n",
    "    \n",
    "    for i in range(len(arr_names_copy)):\n",
    "        ss_weight = 0 # NOTE: space ship onboard \n",
    "        \n",
    "        if (arr_values[i] + ss_weight) < limit:\n",
    "\n",
    "            ss_weight += arr_values_copy[i]\n",
    "            \n",
    "            sst[y].append(arr_names.pop(i))\n",
    "            \n",
    "            arr_values.remove(arr_values[i])\n",
    "        \n",
    "        # elif (arr_values[i] + ss_weight) == limit:\n",
    "        \n",
    "        else:\n",
    "            y += 1\n",
    "            sst.append([])\n",
    "\n"
   ]
  },
  {
   "cell_type": "code",
   "execution_count": null,
   "metadata": {},
   "outputs": [],
   "source": [
    "# space.append([])\n",
    "arr_values.remove(arr_values[0])\n",
    "# space = [space]\n",
    "# space.append(['T'])\n",
    "# space[1].append('R')"
   ]
  },
  {
   "cell_type": "code",
   "execution_count": null,
   "metadata": {},
   "outputs": [],
   "source": [
    "       #0st list  \n",
    "          #1st tuple\n",
    "             #1st element\n",
    "# arr2[0][1][1]"
   ]
  },
  {
   "cell_type": "code",
   "execution_count": null,
   "metadata": {},
   "outputs": [],
   "source": [
    "# space = [space]\n",
    "# space.append([\"T\", 2])\n",
    "space = [['Q']] #['R','T']]\n",
    "# space[1] = [space[1]]\n",
    "# space = space[0] + [space[1],space[2]]\n",
    "space[0].append('F')\n",
    "space.append([])\n",
    "# space\n",
    "print(space)\n",
    "print(earth[1][0])\n"
   ]
  }
 ],
 "metadata": {
  "kernelspec": {
   "display_name": "datasci",
   "language": "python",
   "name": "python3"
  },
  "language_info": {
   "codemirror_mode": {
    "name": "ipython",
    "version": 3
   },
   "file_extension": ".py",
   "mimetype": "text/x-python",
   "name": "python",
   "nbconvert_exporter": "python",
   "pygments_lexer": "ipython3",
   "version": "3.10.13"
  }
 },
 "nbformat": 4,
 "nbformat_minor": 2
}
