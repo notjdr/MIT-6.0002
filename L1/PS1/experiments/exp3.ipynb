{
 "cells": [
  {
   "cell_type": "code",
   "execution_count": 1,
   "metadata": {},
   "outputs": [],
   "source": [
    "#import packages\n",
    "import numpy as np\n",
    "import sqlite3"
   ]
  },
  {
   "cell_type": "markdown",
   "metadata": {},
   "source": [
    "NOTE: THE FTP's WILL OUTPUT DIFFERENT  "
   ]
  },
  {
   "cell_type": "code",
   "execution_count": 2,
   "metadata": {},
   "outputs": [],
   "source": [
    "filename = 'data/team_UAE/raw-data.txt'\n",
    "\n",
    "with open(filename) as f:\n",
    "        file_data = f.readlines()"
   ]
  },
  {
   "cell_type": "code",
   "execution_count": 3,
   "metadata": {},
   "outputs": [],
   "source": [
    "lst = []\n",
    "for x in range(len(file_data)):\n",
    "    lst.append(file_data[x].strip())\n"
   ]
  },
  {
   "cell_type": "code",
   "execution_count": 4,
   "metadata": {},
   "outputs": [],
   "source": [
    "names = []\n",
    "countries = []\n",
    "height = []\n",
    "weight = []\n",
    "ftp_fake = []\n",
    "\n",
    "#names\n",
    "for x in range(0, len(lst), 5):\n",
    "    names.append(lst[x])\n",
    "\n",
    "#country\n",
    "for x in range(1, len(lst), 5):\n",
    "    countries.append(lst[x])\n",
    "\n",
    "#height (cm)\n",
    "for x in range(2, len(lst), 5):\n",
    "    height.append(int(float(lst[x])*100))\n",
    "\n",
    "#weight (kg) \n",
    "for x in range(3, len(lst), 5):\n",
    "    weight.append(lst[x])\n",
    "\n",
    "#ftp_fake\n",
    "for x in range(0, len(lst)):\n",
    "    np.random.seed(0) # same ftp's every time!\n",
    "    ftp_fake = [np.random.randint(300, 450) for _ in range(len(lst))]"
   ]
  },
  {
   "cell_type": "code",
   "execution_count": null,
   "metadata": {},
   "outputs": [],
   "source": [
    "connection = sqlite3.connect('sqlite.db')\n",
    "cursor = connection.cursor()\n",
    "cursor.execute('''CREATE TABLE if not Exists UAE\n",
    "               (Name text, Country text, Height real, Weight real, FTP_FAKE real)''')\n",
    "\n",
    "for x in range(len(names)):\n",
    "    INSERT_QUERY = f\"INSERT INTO UAE VALUES ('{names[x]}','{countries[x]}','{height[x]}','{weight[x]}', '{ftp_fake[x]}')\"\n",
    "    cursor.execute(INSERT_QUERY)\n",
    "\n",
    "#prints rows\n",
    "# for row in cursor.execute('SELECT * FROM UAE'):\n",
    "    # print(row)\n",
    "\n",
    "# Save (commit) the changes\n",
    "connection.commit()\n",
    "# close connection\n",
    "connection.close() "
   ]
  }
 ],
 "metadata": {
  "kernelspec": {
   "display_name": "datasci",
   "language": "python",
   "name": "python3"
  },
  "language_info": {
   "codemirror_mode": {
    "name": "ipython",
    "version": 3
   },
   "file_extension": ".py",
   "mimetype": "text/x-python",
   "name": "python",
   "nbconvert_exporter": "python",
   "pygments_lexer": "ipython3",
   "version": "3.10.13"
  }
 },
 "nbformat": 4,
 "nbformat_minor": 2
}
