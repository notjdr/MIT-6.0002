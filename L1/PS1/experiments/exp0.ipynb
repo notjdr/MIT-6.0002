{
 "cells": [
  {
   "cell_type": "code",
   "execution_count": 5,
   "metadata": {},
   "outputs": [
    {
     "name": "stdout",
     "output_type": "stream",
     "text": [
      "{'Maggie': 3, 'Herman': 7, 'Betsy': 9, 'Oreo': 6, 'Moo Moo': 3, 'Milkshake': 2, 'Millie': 5, 'Lola': 2, 'Florence': 2, 'Henrietta': 9}\n"
     ]
    },
    {
     "ename": "AttributeError",
     "evalue": "'NoneType' object has no attribute 'keys'",
     "output_type": "error",
     "traceback": [
      "\u001b[0;31m---------------------------------------------------------------------------\u001b[0m",
      "\u001b[0;31mAttributeError\u001b[0m                            Traceback (most recent call last)",
      "Cell \u001b[0;32mIn[5], line 5\u001b[0m\n\u001b[1;32m      1\u001b[0m \u001b[38;5;66;03m#pre-pre-process data. from dictionary to list\u001b[39;00m\n\u001b[1;32m      3\u001b[0m \u001b[38;5;28;01mfrom\u001b[39;00m \u001b[38;5;21;01mps1a\u001b[39;00m \u001b[38;5;28;01mimport\u001b[39;00m load_cows\n\u001b[0;32m----> 5\u001b[0m arr_names \u001b[38;5;241m=\u001b[39m \u001b[38;5;28mlist\u001b[39m(\u001b[43mload_cows\u001b[49m\u001b[43m(\u001b[49m\u001b[43m)\u001b[49m\u001b[38;5;241;43m.\u001b[39;49m\u001b[43mkeys\u001b[49m())\n\u001b[1;32m      6\u001b[0m arr_values \u001b[38;5;241m=\u001b[39m \u001b[38;5;28mlist\u001b[39m(load_cows()\u001b[38;5;241m.\u001b[39mvalues())\n",
      "\u001b[0;31mAttributeError\u001b[0m: 'NoneType' object has no attribute 'keys'"
     ]
    }
   ],
   "source": [
    "#pre-pre-process data. from dictionary to list\n",
    "\n",
    "from ps1a import load_cows\n",
    "\n",
    "arr_names = list(load_cows().keys())\n",
    "arr_values = list(load_cows().values())\n"
   ]
  },
  {
   "cell_type": "code",
   "execution_count": 1,
   "metadata": {},
   "outputs": [],
   "source": [
    "# pre-process data. max -> min\n",
    "arr_names = ['Maggie', 'Herman', 'Betsy', 'Oreo', 'Moo Moo', 'Milkshake', 'Millie', 'Lola', 'Florence', 'Henrietta']\n",
    "arr_values = [3, 7, 9, 6, 3, 2, 5, 2, 2, 9]\n",
    "\n",
    "\n",
    "lst = list(zip(arr_names,arr_values))\n",
    "lst = sorted(lst, key = lambda cow: cow[1], reverse=True)\n",
    "\n",
    "arr_names, arr_values = zip(*lst)"
   ]
  },
  {
   "cell_type": "code",
   "execution_count": 2,
   "metadata": {},
   "outputs": [],
   "source": [
    "# add availability marker for the cows\n",
    "arr_values = [[arr_values[x], 1] for x in range(len(arr_values))]"
   ]
  },
  {
   "cell_type": "code",
   "execution_count": 3,
   "metadata": {},
   "outputs": [],
   "source": [
    "maxUnits = 10\n",
    "space = []\n",
    "\n",
    "\n",
    "def greedy():\n",
    "    result = []\n",
    "    totalCost = 0.0\n",
    "\n",
    "    for i in range(len(arr_values)):\n",
    "        if (totalCost+arr_values[i][0]) <= maxUnits and arr_values[i][1]:\n",
    "            result.append(arr_names[i])\n",
    "            arr_values[i][1] = 0\n",
    "            totalCost += arr_values[i][0]   \n",
    "\n",
    "    \n",
    "    return result"
   ]
  },
  {
   "cell_type": "code",
   "execution_count": 4,
   "metadata": {},
   "outputs": [],
   "source": [
    "def available_checker():\n",
    "    total = 0\n",
    "    for i in range(len(arr_values)):\n",
    "        total += arr_values[i][1]\n",
    "    return bool(total)\n",
    "\n",
    "\n",
    "while available_checker():\n",
    "    space.append(greedy())\n"
   ]
  }
 ],
 "metadata": {
  "kernelspec": {
   "display_name": "datasci",
   "language": "python",
   "name": "python3"
  },
  "language_info": {
   "codemirror_mode": {
    "name": "ipython",
    "version": 3
   },
   "file_extension": ".py",
   "mimetype": "text/x-python",
   "name": "python",
   "nbconvert_exporter": "python",
   "pygments_lexer": "ipython3",
   "version": "3.10.13"
  }
 },
 "nbformat": 4,
 "nbformat_minor": 2
}
