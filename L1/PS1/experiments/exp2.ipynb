{
 "cells": [
  {
   "cell_type": "code",
   "execution_count": 7,
   "metadata": {},
   "outputs": [],
   "source": [
    "from ps1_partition import get_partitions"
   ]
  },
  {
   "cell_type": "code",
   "execution_count": 8,
   "metadata": {},
   "outputs": [],
   "source": [
    "#cleaned.txt\n",
    "lst_name = ['JOÃO ALMEIDA', 'IGOR ARRIETA', 'JUAN AYUSO', 'FILIPPO BARONCINI', 'SJOERD BAX', 'MIKKEL BJERG', 'JAN CHRISTEN', 'ALESSANDRO COVI', 'ISAAC DEL TORO', 'FINN FISHER BLACK', 'FELIX GROSSSCHARTNER', 'MARC HIRSCHI', 'ÁLVARO HODEG', 'VEGARD STAKE LAENGEN', 'RAFAŁ MAJKA', 'BRANDON MCNULTY', 'SEBASTIAN MOLANO', 'ANTÓNIO MORGADO', 'DOMEN NOVAK', 'IVO OLIVEIRA', 'RUI OLIVEIRA', 'TADEJ POGAČAR', 'NILS POLITT', 'PAVEL SIVAKOV', 'MARC SOLER', 'DIEGO ULISSI', 'JAY VINE', 'MICHAEL VINK', 'TIM WELLENS', 'ADAM YATES']\n",
    "lst_country = ['PORTUGAL', 'SPAIN', 'SPAIN', 'ITALY', 'NETHERLANDS', 'DENMARK', 'SWITZERLAND', 'ITALY', 'MEXICO', 'NEW ZEALAND', 'AUSTRIA', 'SWITZERLAND', 'COLOMBIA', 'NORWAY', 'POLAND', 'USA', 'COLOMBIA', 'PORTUGAL', 'SLOVENIA', 'PORTUGAL', 'PORTUGAL', 'SLOVENIA', 'GERMANY', 'FRANCE', 'SPAIN', 'ITALY', 'AUSTRALIA', 'NEW ZEALAND', 'BELGIUM', 'UNITED KINGDOM']"
   ]
  },
  {
   "cell_type": "code",
   "execution_count": 9,
   "metadata": {},
   "outputs": [],
   "source": [
    "# From codereview.stackexchange.com                    \n",
    "\n",
    "def partitions(set_):\n",
    "    \n",
    "    if not set_:\n",
    "        yield []\n",
    "        return\n",
    "                  \n",
    "    for i in range(2**len(set_)//2): \n",
    "        parts = [set(), set()]\n",
    "        \n",
    "        for item in set_:\n",
    "            parts[i&1].add(item) \n",
    "            i >>= 1 \n",
    "\n",
    "        for b in partitions(parts[1]): \n",
    "            yield [parts[0]]+b \n",
    "\n",
    "def get_partitions(set_):\n",
    "    for partition in partitions(set_):\n",
    "        yield [list(elt) for elt in partition]\n"
   ]
  },
  {
   "cell_type": "code",
   "execution_count": 49,
   "metadata": {},
   "outputs": [],
   "source": [
    "lst = []\n",
    "for partition in get_partitions([1,2,3,4]):\n",
    "    lst.append(partition)\n",
    "\n",
    "min_ = [len(lst[x]) for x in range(len(lst))]\n",
    "min_ = min(min_)\n",
    "\n",
    "# a great addition to this partition functin would be to return the total's of each list \n",
    "\n",
    "# another concern to raise is, should this be a for loop after the function has exectuted, or rather embedded within partitions()\n",
    "\n"
   ]
  },
  {
   "cell_type": "code",
   "execution_count": 48,
   "metadata": {},
   "outputs": [
    {
     "name": "stdout",
     "output_type": "stream",
     "text": [
      "[[[2, 3, 4], [1], [5]], [[1, 3, 4], [2]], [[1], [2], [3], [4]]]\n"
     ]
    }
   ],
   "source": [
    "exp_lst = [[[2,3,4],[1],[5]], \n",
    "           [[1,3,4],[2]], \n",
    "           [[1],[2],[3],[4]]]\n",
    "\n",
    "min_ = [len(exp_lst[x]) for x in range(len(exp_lst))]\n",
    "min_ = min(min_)\n",
    "\n",
    "\n",
    "\n",
    "# for lst in range(0,len(exp_lst)):\n",
    "    # print(len(exp_lst[lst])\n",
    "        #   )"
   ]
  }
 ],
 "metadata": {
  "kernelspec": {
   "display_name": "datasci",
   "language": "python",
   "name": "python3"
  },
  "language_info": {
   "codemirror_mode": {
    "name": "ipython",
    "version": 3
   },
   "file_extension": ".py",
   "mimetype": "text/x-python",
   "name": "python",
   "nbconvert_exporter": "python",
   "pygments_lexer": "ipython3",
   "version": "3.10.13"
  }
 },
 "nbformat": 4,
 "nbformat_minor": 2
}
